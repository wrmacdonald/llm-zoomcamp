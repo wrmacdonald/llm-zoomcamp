{
 "cells": [
  {
   "cell_type": "code",
   "execution_count": 2,
   "metadata": {},
   "outputs": [],
   "source": [
    "import json\n",
    "\n",
    "with open('documents-with-ids.json', 'rt') as f_in:\n",
    "    documents = json.load(f_in)"
   ]
  },
  {
   "cell_type": "code",
   "execution_count": 3,
   "metadata": {},
   "outputs": [],
   "source": [
    "from sentence_transformers import SentenceTransformer"
   ]
  },
  {
   "cell_type": "code",
   "execution_count": 4,
   "metadata": {},
   "outputs": [],
   "source": [
    "model_name = 'multi-qa-MiniLM-L6-cos-v1'\n",
    "model = SentenceTransformer(model_name)"
   ]
  },
  {
   "cell_type": "code",
   "execution_count": 5,
   "metadata": {},
   "outputs": [
    {
     "data": {
      "text/plain": [
       "array([ 4.73348908e-02,  1.27067581e-01,  3.84838022e-02,  7.23323002e-02,\n",
       "        3.31797544e-03,  6.13833033e-02,  6.92145452e-02, -3.69955897e-02,\n",
       "       -2.15685386e-02,  5.20314649e-03,  6.65259808e-02, -7.02468827e-02,\n",
       "        3.88374291e-02, -6.01203460e-03, -6.79618097e-04, -1.06657900e-01,\n",
       "       -1.41483871e-03,  2.94834021e-02, -4.66492958e-02,  1.10237591e-03,\n",
       "        7.50068924e-04, -1.48900365e-02,  5.91124445e-02, -4.67299949e-03,\n",
       "       -2.62887590e-02,  5.87669052e-02,  2.24543922e-03,  4.08261530e-02,\n",
       "        4.71807905e-02, -1.59825385e-02, -2.86675338e-02,  5.91224506e-02,\n",
       "       -4.65365797e-02,  4.41080816e-02,  1.92513969e-02,  2.18564905e-02,\n",
       "        5.51372953e-02,  2.41753124e-02,  7.44414842e-03, -1.32472850e-02,\n",
       "       -4.55183387e-02, -1.38624296e-01,  2.90865880e-02,  2.29970384e-02,\n",
       "        5.88652305e-02,  2.93165501e-02, -1.53530380e-02,  2.24739891e-02,\n",
       "       -4.49639745e-02, -8.55540112e-02, -2.60863304e-02, -4.18343097e-02,\n",
       "       -5.56011535e-02, -3.03258654e-02, -4.47428226e-02,  1.75375268e-02,\n",
       "        7.80690461e-03, -4.48540449e-02,  6.62811450e-04, -9.27057490e-03,\n",
       "       -4.47054654e-02,  7.84655847e-03,  1.45953405e-03,  1.05424047e-01,\n",
       "        1.27841115e-01, -1.24119222e-02, -1.37867797e-02, -6.17521219e-02,\n",
       "       -2.46276446e-02,  1.06970817e-01,  4.08450328e-02,  1.57239307e-02,\n",
       "       -1.79823637e-02,  3.52772363e-02,  1.27597917e-02,  4.74062599e-02,\n",
       "       -5.72579950e-02, -7.38127828e-02,  7.65743852e-02,  1.11578731e-02,\n",
       "       -2.62617767e-02, -1.62681416e-01, -3.07348743e-02,  7.88612466e-04,\n",
       "       -1.37961190e-03,  4.09881361e-02,  6.58468828e-02, -1.01549476e-01,\n",
       "       -8.05574805e-02, -2.56422162e-02, -1.68369059e-02, -1.14054613e-01,\n",
       "       -6.14950620e-02,  7.54584670e-02, -4.60161753e-02,  4.24239896e-02,\n",
       "       -1.45946890e-01, -3.56544703e-02, -3.04677505e-02,  7.64000788e-02,\n",
       "        9.09885298e-03,  8.72393698e-03,  2.57000960e-02, -4.16688360e-02,\n",
       "       -7.00782984e-02, -3.78531851e-02, -1.14596635e-02, -1.10837929e-01,\n",
       "        7.65000433e-02,  1.89552568e-02, -3.49219702e-02,  2.48997770e-02,\n",
       "        5.87441772e-02, -4.91456082e-03,  1.23856599e-02, -4.32335213e-02,\n",
       "       -1.58494264e-02, -1.84046885e-03, -8.09487253e-02,  5.29373698e-02,\n",
       "        7.86339343e-02,  1.01500070e-02, -5.49127460e-02, -4.04124567e-03,\n",
       "        5.18280827e-03, -6.27883747e-02,  8.71990398e-02,  1.23417945e-30,\n",
       "        1.43380268e-02, -2.99752392e-02,  6.72748834e-02,  3.14446092e-02,\n",
       "       -7.88618252e-03,  7.24933371e-02, -3.16927917e-02,  8.85846019e-02,\n",
       "       -4.96049412e-02,  4.23371233e-02, -6.69299066e-03, -6.16810694e-02,\n",
       "       -3.11629791e-02,  4.51595552e-04,  5.44013940e-02,  2.79427506e-02,\n",
       "        5.85770793e-03, -3.67173478e-02, -2.42189933e-02,  7.89410528e-03,\n",
       "       -2.85204612e-02, -7.53903855e-03, -3.58369481e-03, -3.84832313e-03,\n",
       "       -7.49944942e-03, -7.73715079e-02,  3.61164436e-02, -6.83360919e-02,\n",
       "        8.24025890e-04,  2.11721379e-02, -5.32334931e-02,  1.83053594e-02,\n",
       "       -6.22560270e-03,  6.74710125e-02,  1.37663251e-02,  4.53568948e-03,\n",
       "        2.89034713e-02, -2.09284015e-02,  4.73253466e-02, -1.74659472e-02,\n",
       "       -9.04226750e-02,  2.84245051e-02,  7.15166107e-02,  3.62365395e-02,\n",
       "       -2.19327305e-02,  3.07474984e-03, -3.61183509e-02, -6.15161546e-02,\n",
       "        5.74703328e-02,  5.00877760e-02,  8.07686802e-03,  5.04951850e-02,\n",
       "        5.48391417e-02,  3.56261991e-02,  4.05603647e-02,  9.15343240e-02,\n",
       "        7.84249902e-02,  5.20106293e-02, -4.14286256e-02,  4.88522183e-03,\n",
       "       -2.29832344e-02, -3.80216762e-02, -2.16938183e-02,  9.33596492e-03,\n",
       "       -4.05584909e-02,  3.18625495e-02, -5.97170331e-02, -8.40768218e-02,\n",
       "        6.72867522e-02, -2.47839373e-02, -5.59919029e-02, -4.51746695e-02,\n",
       "       -2.28153057e-02,  5.37492558e-02, -5.06398967e-03,  2.64769495e-02,\n",
       "        2.07998473e-02,  2.27809884e-02,  6.79315953e-03, -1.77570395e-02,\n",
       "        6.03154339e-02, -6.10046051e-02, -1.63316689e-02, -3.66603173e-02,\n",
       "       -3.14008407e-02,  4.95799072e-02, -1.68099757e-02, -1.48031950e-01,\n",
       "        6.46133944e-02, -7.26814568e-02, -9.74265765e-03, -6.75381301e-03,\n",
       "        4.12235931e-02, -2.64606029e-02,  6.08284250e-02, -2.08238218e-33,\n",
       "       -4.62764949e-02, -5.56195201e-03, -5.55913262e-02,  1.08988853e-02,\n",
       "       -4.53221193e-03, -5.08183874e-02,  6.29862919e-02,  1.04548801e-02,\n",
       "       -6.98456243e-02,  2.93447766e-02, -1.98291168e-02,  3.28086410e-03,\n",
       "        7.69840088e-03, -6.74813846e-03, -2.48644445e-02,  6.57753199e-02,\n",
       "        3.96399722e-02, -1.23846605e-02, -5.65859042e-02,  9.69170108e-02,\n",
       "       -4.70219143e-02,  7.67987594e-02,  8.02962296e-03, -3.32645141e-02,\n",
       "       -2.53259987e-02, -3.40302512e-02,  6.32101968e-02, -8.67385268e-02,\n",
       "       -7.87116438e-02,  9.77701508e-03,  9.62402299e-02,  3.50695141e-02,\n",
       "       -1.00436457e-03,  9.59363952e-03, -5.11859497e-03, -3.75308990e-02,\n",
       "        1.18261255e-01, -1.11939937e-01,  5.98961720e-03,  6.19375221e-02,\n",
       "        6.02254495e-02, -2.95303129e-02, -2.15416923e-02, -6.51468243e-03,\n",
       "        2.27538664e-02, -6.46904185e-02,  4.55168262e-02, -8.69801790e-02,\n",
       "        3.52007076e-02,  9.18404683e-02, -3.95133905e-02,  2.15461180e-02,\n",
       "       -2.13135257e-02, -4.31819493e-03, -1.02386298e-02, -4.27853130e-02,\n",
       "       -6.16715290e-02, -4.80157398e-02, -5.21267243e-02,  4.36066426e-02,\n",
       "       -2.44981647e-02,  1.29758552e-01, -9.96792130e-03, -2.61751097e-02,\n",
       "        2.96139754e-02, -7.89517686e-02, -5.17523400e-02,  7.22476169e-02,\n",
       "        7.04825222e-02,  5.25004556e-03,  1.60609686e-03,  5.87236462e-03,\n",
       "       -1.00615479e-01, -8.00500810e-03, -1.90886948e-02,  2.82579707e-03,\n",
       "       -4.78703044e-02, -1.28543042e-02, -5.62675530e-04, -1.98229793e-02,\n",
       "        4.47531305e-02, -3.92111614e-02,  9.65941697e-03,  1.95678081e-02,\n",
       "       -2.19740290e-02, -1.15347430e-02,  6.95826709e-02,  1.04659246e-02,\n",
       "       -4.75659408e-02,  4.73076589e-02,  6.82782382e-02,  1.18211498e-02,\n",
       "       -2.06720643e-02, -6.44425228e-02,  1.81398224e-02, -3.66744723e-33,\n",
       "       -2.15575788e-02, -9.25814267e-03,  3.22222747e-02,  4.93934639e-02,\n",
       "        3.39725651e-02, -5.81313297e-02, -4.10919897e-02, -6.61723986e-02,\n",
       "       -4.54983264e-02, -6.52140453e-02,  7.01726452e-02,  5.35783023e-02,\n",
       "       -2.63758209e-02,  7.84200728e-02, -2.22077128e-02,  4.26632650e-02,\n",
       "       -4.34582829e-02,  3.06172576e-02, -5.51673509e-02,  9.14857835e-02,\n",
       "       -2.36392468e-02,  1.03856251e-01, -2.54783165e-02,  8.97640064e-02,\n",
       "       -3.40787284e-02,  3.01495679e-02,  2.05771979e-02,  3.45501155e-02,\n",
       "       -1.81939118e-02,  6.43383861e-02,  5.58618493e-02,  2.79714968e-02,\n",
       "       -1.08520903e-01, -3.51850130e-02,  1.97763219e-02,  2.50708759e-02,\n",
       "        8.84399265e-02,  5.62036829e-03, -6.67230505e-03,  5.69125637e-02,\n",
       "       -2.85967719e-02, -3.87189677e-03,  4.64988612e-02,  3.38386036e-02,\n",
       "        9.78046190e-03, -4.03244197e-02, -9.89263728e-02, -1.19136043e-01,\n",
       "       -3.34475785e-02, -5.46206869e-02, -6.21646717e-02,  5.67112304e-02,\n",
       "       -2.88956463e-02,  3.97536606e-02,  9.44158435e-02,  1.24625778e-02,\n",
       "        2.48857103e-02,  1.35711599e-02, -1.46863326e-01,  2.73074042e-02,\n",
       "        1.04691312e-01,  4.84926254e-02,  5.05143553e-02, -1.58308279e-02],\n",
       "      dtype=float32)"
      ]
     },
     "execution_count": 5,
     "metadata": {},
     "output_type": "execute_result"
    }
   ],
   "source": [
    "model.encode(\"test sentence!\")"
   ]
  },
  {
   "cell_type": "markdown",
   "metadata": {},
   "source": [
    "Test Performance of 3 different vectors"
   ]
  },
  {
   "cell_type": "code",
   "execution_count": 6,
   "metadata": {},
   "outputs": [
    {
     "data": {
      "text/plain": [
       "ObjectApiResponse({'acknowledged': True, 'shards_acknowledged': True, 'index': 'course-questions'})"
      ]
     },
     "execution_count": 6,
     "metadata": {},
     "output_type": "execute_result"
    }
   ],
   "source": [
    "from elasticsearch import Elasticsearch\n",
    "\n",
    "es_client = Elasticsearch('http://localhost:9200')\n",
    "\n",
    "index_settings = {\n",
    "    \"settings\": {\n",
    "        \"number_of_shards\": 1,\n",
    "        \"number_of_replicas\": 0\n",
    "    },\n",
    "    \"mappings\": {\n",
    "        \"properties\": {\n",
    "            \"text\": {\"type\": \"text\"},\n",
    "            \"section\": {\"type\": \"text\"},\n",
    "            \"question\": {\"type\": \"text\"},\n",
    "            \"course\": {\"type\": \"keyword\"},\n",
    "            \"id\": {\"type\": \"keyword\"},\n",
    "            \"question_vector\": {\n",
    "                \"type\": \"dense_vector\",\n",
    "                \"dims\": 384,\n",
    "                \"index\": True,\n",
    "                \"similarity\": \"cosine\"\n",
    "            },\n",
    "            \"text_vector\": {\n",
    "                \"type\": \"dense_vector\",\n",
    "                \"dims\": 384,\n",
    "                \"index\": True,\n",
    "                \"similarity\": \"cosine\"\n",
    "            },\n",
    "            \"question_text_vector\": {\n",
    "                \"type\": \"dense_vector\",\n",
    "                \"dims\": 384,\n",
    "                \"index\": True,\n",
    "                \"similarity\": \"cosine\"\n",
    "            },\n",
    "        }\n",
    "    }\n",
    "}\n",
    "\n",
    "index_name = \"course-questions\"\n",
    "\n",
    "es_client.indices.delete(index=index_name, ignore_unavailable=True)\n",
    "es_client.indices.create(index=index_name, body=index_settings)"
   ]
  },
  {
   "cell_type": "code",
   "execution_count": 7,
   "metadata": {},
   "outputs": [
    {
     "name": "stderr",
     "output_type": "stream",
     "text": [
      "  0%|          | 0/948 [00:00<?, ?it/s]"
     ]
    },
    {
     "name": "stderr",
     "output_type": "stream",
     "text": [
      "100%|██████████| 948/948 [03:29<00:00,  4.53it/s]\n"
     ]
    }
   ],
   "source": [
    "from tqdm.auto import tqdm\n",
    "\n",
    "for doc in tqdm(documents):\n",
    "    question = doc['question']\n",
    "    text = doc['text']\n",
    "    question_text = question + ' ' + text\n",
    "\n",
    "    doc['question_vector'] = model.encode(question)\n",
    "    doc['text_vector'] = model.encode(text)\n",
    "    doc['question_text_vector'] = model.encode(question_text)\n",
    "\n",
    "    es_client.index(index=index_name, document=doc)"
   ]
  },
  {
   "cell_type": "code",
   "execution_count": 8,
   "metadata": {},
   "outputs": [],
   "source": [
    "query = 'I just discovered the course. Can I still join it?'\n",
    "v_q = model.encode(query)"
   ]
  },
  {
   "cell_type": "code",
   "execution_count": 9,
   "metadata": {},
   "outputs": [],
   "source": [
    "search_query = {\n",
    "    \"field\": \"question_vector\",\n",
    "    \"query_vector\": v_q,\n",
    "    \"k\": 5,\n",
    "    \"num_candidates\": 10000,\n",
    "}\n",
    "\n",
    "es_results = es_client.search(\n",
    "    index=index_name,\n",
    "    knn=search_query,\n",
    "    source=[\"text\", \"section\", \"question\", \"course\", \"id\"]\n",
    ")"
   ]
  },
  {
   "cell_type": "code",
   "execution_count": 11,
   "metadata": {},
   "outputs": [
    {
     "data": {
      "text/plain": [
       "[{'question': 'The course has already started. Can I still join it?',\n",
       "  'course': 'machine-learning-zoomcamp',\n",
       "  'section': 'General course-related questions',\n",
       "  'text': 'Yes, you can. You won’t be able to submit some of the homeworks, but you can still take part in the course.\\nIn order to get a certificate, you need to submit 2 out of 3 course projects and review 3 peers’ Projects by the deadline. It means that if you join the course at the end of November and manage to work on two projects, you will still be eligible for a certificate.',\n",
       "  'id': 'ee58a693'},\n",
       " {'question': 'Course - Can I still join the course after the start date?',\n",
       "  'course': 'data-engineering-zoomcamp',\n",
       "  'section': 'General course-related questions',\n",
       "  'text': \"Yes, even if you don't register, you're still eligible to submit the homeworks.\\nBe aware, however, that there will be deadlines for turning in the final projects. So don't leave everything for the last minute.\",\n",
       "  'id': '7842b56a'},\n",
       " {'question': 'Course - Can I follow the course after it finishes?',\n",
       "  'course': 'data-engineering-zoomcamp',\n",
       "  'section': 'General course-related questions',\n",
       "  'text': 'Yes, we will keep all the materials after the course finishes, so you can follow the course at your own pace after it finishes.\\nYou can also continue looking at the homeworks and continue preparing for the next cohort. I guess you can also start working on your final capstone project.',\n",
       "  'id': 'a482086d'},\n",
       " {'question': 'I just joined. What should I do next? How can I access course materials?',\n",
       "  'course': 'machine-learning-zoomcamp',\n",
       "  'section': 'General course-related questions',\n",
       "  'text': 'Welcome to the course! Go to the course page (http://mlzoomcamp.com/), scroll down and start going through the course materials. Then read everything in the cohort folder for your cohort’s year.\\nClick on the links and start watching the videos. Also watch office hours from previous cohorts. Go to DTC youtube channel and click on Playlists and search for {course yyyy}. ML Zoomcamp was first launched in 2021.\\nOr you can just use this link: http://mlzoomcamp.com/#syllabus',\n",
       "  'id': '0a278fb2'},\n",
       " {'question': 'How can we contribute to the course?',\n",
       "  'course': 'data-engineering-zoomcamp',\n",
       "  'section': 'General course-related questions',\n",
       "  'text': 'Star the repo! Share it with friends if you find it useful ❣️\\nCreate a PR if you see you can improve the text or the structure of the repository.',\n",
       "  'id': '2f19301f'}]"
      ]
     },
     "execution_count": 11,
     "metadata": {},
     "output_type": "execute_result"
    }
   ],
   "source": [
    "result_docs = []\n",
    "    \n",
    "for hit in es_results['hits']['hits']:\n",
    "    result_docs.append(hit['_source'])\n",
    "\n",
    "result_docs"
   ]
  },
  {
   "cell_type": "code",
   "execution_count": 13,
   "metadata": {},
   "outputs": [],
   "source": [
    "def elastic_search_knn(field, vector, course):\n",
    "    knn = {\n",
    "        \"field\": field,\n",
    "        \"query_vector\": vector,\n",
    "        \"k\": 5,\n",
    "        \"num_candidates\": 10000,\n",
    "        \"filter\": {\n",
    "            \"term\": {\n",
    "                \"course\": course\n",
    "            }\n",
    "        }\n",
    "    }\n",
    "\n",
    "    search_query = {\n",
    "        \"knn\": knn,\n",
    "        \"_source\": [\"text\", \"section\", \"question\", \"course\", \"id\"]\n",
    "    }\n",
    "\n",
    "    es_results = es_client.search(\n",
    "        index=index_name,\n",
    "        body=search_query\n",
    "    )\n",
    "    \n",
    "    result_docs = []\n",
    "    \n",
    "    for hit in es_results['hits']['hits']:\n",
    "        result_docs.append(hit['_source'])\n",
    "\n",
    "    return result_docs"
   ]
  },
  {
   "cell_type": "code",
   "execution_count": 16,
   "metadata": {},
   "outputs": [
    {
     "data": {
      "text/plain": [
       "[{'question': 'Course - Can I still join the course after the start date?',\n",
       "  'course': 'data-engineering-zoomcamp',\n",
       "  'section': 'General course-related questions',\n",
       "  'text': \"Yes, even if you don't register, you're still eligible to submit the homeworks.\\nBe aware, however, that there will be deadlines for turning in the final projects. So don't leave everything for the last minute.\",\n",
       "  'id': '7842b56a'},\n",
       " {'question': 'Course - Can I follow the course after it finishes?',\n",
       "  'course': 'data-engineering-zoomcamp',\n",
       "  'section': 'General course-related questions',\n",
       "  'text': 'Yes, we will keep all the materials after the course finishes, so you can follow the course at your own pace after it finishes.\\nYou can also continue looking at the homeworks and continue preparing for the next cohort. I guess you can also start working on your final capstone project.',\n",
       "  'id': 'a482086d'},\n",
       " {'question': 'How can we contribute to the course?',\n",
       "  'course': 'data-engineering-zoomcamp',\n",
       "  'section': 'General course-related questions',\n",
       "  'text': 'Star the repo! Share it with friends if you find it useful ❣️\\nCreate a PR if you see you can improve the text or the structure of the repository.',\n",
       "  'id': '2f19301f'},\n",
       " {'question': 'Course - What can I do before the course starts?',\n",
       "  'course': 'data-engineering-zoomcamp',\n",
       "  'section': 'General course-related questions',\n",
       "  'text': 'You can start by installing and setting up all the dependencies and requirements:\\nGoogle cloud account\\nGoogle Cloud SDK\\nPython 3 (installed with Anaconda)\\nTerraform\\nGit\\nLook over the prerequisites and syllabus to see if you are comfortable with these subjects.',\n",
       "  'id': '63394d91'},\n",
       " {'question': 'Course - Can I get support if I take the course in the self-paced mode?',\n",
       "  'course': 'data-engineering-zoomcamp',\n",
       "  'section': 'General course-related questions',\n",
       "  'text': 'Yes, the slack channel remains open and you can ask questions there. But always sDocker containers exit code w search the channel first and second, check the FAQ (this document), most likely all your questions are already answered here.\\nYou can also tag the bot @ZoomcampQABot to help you conduct the search, but don’t rely on its answers 100%, it is pretty good though.',\n",
       "  'id': 'eb56ae98'}]"
      ]
     },
     "execution_count": 16,
     "metadata": {},
     "output_type": "execute_result"
    }
   ],
   "source": [
    "elastic_search_knn('question_vector', v_q, 'data-engineering-zoomcamp')"
   ]
  },
  {
   "cell_type": "code",
   "execution_count": 17,
   "metadata": {},
   "outputs": [],
   "source": [
    "import pandas as pd"
   ]
  },
  {
   "cell_type": "code",
   "execution_count": 18,
   "metadata": {},
   "outputs": [
    {
     "data": {
      "text/plain": [
       "{'question': 'When does the course begin?',\n",
       " 'course': 'data-engineering-zoomcamp',\n",
       " 'document': 'c02e79ef'}"
      ]
     },
     "execution_count": 18,
     "metadata": {},
     "output_type": "execute_result"
    }
   ],
   "source": [
    "df_ground_truth = pd.read_csv('ground-truth-data.csv')\n",
    "ground_truth = df_ground_truth.to_dict(orient='records')\n",
    "ground_truth[0]"
   ]
  },
  {
   "cell_type": "code",
   "execution_count": 19,
   "metadata": {},
   "outputs": [],
   "source": [
    "def question_vector_knn(q):\n",
    "    question = q['question']\n",
    "    course = q['course']\n",
    "\n",
    "    v_q = model.encode(question)\n",
    "\n",
    "    return elastic_search_knn('question_vector', v_q, course)"
   ]
  },
  {
   "cell_type": "code",
   "execution_count": 20,
   "metadata": {},
   "outputs": [],
   "source": [
    "def hit_rate(relevance_total):\n",
    "    x = 0\n",
    "    \n",
    "    for line in relevance_total:\n",
    "        if True in line:\n",
    "            x += 1\n",
    "    \n",
    "    return x / len(relevance_total)"
   ]
  },
  {
   "cell_type": "code",
   "execution_count": 21,
   "metadata": {},
   "outputs": [],
   "source": [
    "def mrr(relevance_total):\n",
    "    score = 0\n",
    "    \n",
    "    for line in relevance_total:\n",
    "        for i in range(len(line)):\n",
    "            if line[i] == True:\n",
    "                score = score + 1 / (i + 1)\n",
    "    \n",
    "    return score / len(relevance_total)"
   ]
  },
  {
   "cell_type": "code",
   "execution_count": 22,
   "metadata": {},
   "outputs": [],
   "source": [
    "def evaluate(ground_truth, search_function):\n",
    "    relevance_total = []\n",
    "\n",
    "    for q in tqdm(ground_truth):\n",
    "        doc_id = q['document']\n",
    "        results = search_function(q)\n",
    "        relevance = [d['id'] == doc_id for d in results]\n",
    "        relevance_total.append(relevance)\n",
    "    \n",
    "    return {\n",
    "        'hit_rate': hit_rate(relevance_total), \n",
    "        'mrr': mrr(relevance_total)\n",
    "    }"
   ]
  },
  {
   "cell_type": "code",
   "execution_count": 23,
   "metadata": {},
   "outputs": [
    {
     "name": "stderr",
     "output_type": "stream",
     "text": [
      "100%|██████████| 4627/4627 [01:30<00:00, 51.04it/s]\n"
     ]
    },
    {
     "data": {
      "text/plain": [
       "{'hit_rate': 0.773071104387292, 'mrr': 0.6666810748505158}"
      ]
     },
     "execution_count": 23,
     "metadata": {},
     "output_type": "execute_result"
    }
   ],
   "source": [
    "evaluate(ground_truth, question_vector_knn)"
   ]
  },
  {
   "cell_type": "code",
   "execution_count": 30,
   "metadata": {},
   "outputs": [],
   "source": [
    "def text_vector_knn(q):\n",
    "    question = q['question']\n",
    "    course = q['course']\n",
    "\n",
    "    v_q = model.encode(question)\n",
    "\n",
    "    return elastic_search_knn('text_vector', v_q, course)"
   ]
  },
  {
   "cell_type": "code",
   "execution_count": 31,
   "metadata": {},
   "outputs": [
    {
     "data": {
      "text/plain": [
       "[{'question': 'Course - When will the course start?',\n",
       "  'course': 'data-engineering-zoomcamp',\n",
       "  'section': 'General course-related questions',\n",
       "  'text': \"The purpose of this document is to capture frequently asked technical questions\\nThe exact day and hour of the course will be 15th Jan 2024 at 17h00. The course will start with the first  “Office Hours'' live.1\\nSubscribe to course public Google Calendar (it works from Desktop only).\\nRegister before the course starts using this link.\\nJoin the course Telegram channel with announcements.\\nDon’t forget to register in DataTalks.Club's Slack and join the channel.\",\n",
       "  'id': 'c02e79ef'},\n",
       " {'question': 'Course - Can I follow the course after it finishes?',\n",
       "  'course': 'data-engineering-zoomcamp',\n",
       "  'section': 'General course-related questions',\n",
       "  'text': 'Yes, we will keep all the materials after the course finishes, so you can follow the course at your own pace after it finishes.\\nYou can also continue looking at the homeworks and continue preparing for the next cohort. I guess you can also start working on your final capstone project.',\n",
       "  'id': 'a482086d'},\n",
       " {'question': 'Homework - What are homework and project deadlines?',\n",
       "  'course': 'data-engineering-zoomcamp',\n",
       "  'section': 'General course-related questions',\n",
       "  'text': 'You can find the latest and up-to-date deadlines here: https://docs.google.com/spreadsheets/d/e/2PACX-1vQACMLuutV5rvXg5qICuJGL-yZqIV0FBD84CxPdC5eZHf8TfzB-CJT_3Mo7U7oGVTXmSihPgQxuuoku/pubhtml\\nAlso, take note of Announcements from @Au-Tomator for any extensions or other news. Or, the form may also show the updated deadline, if Instructor(s) has updated it.',\n",
       "  'id': 'a1daf537'},\n",
       " {'question': 'Course - I have registered for the Data Engineering Bootcamp. When can I expect to receive the confirmation email?',\n",
       "  'course': 'data-engineering-zoomcamp',\n",
       "  'section': 'General course-related questions',\n",
       "  'text': \"You don't need it. You're accepted. You can also just start learning and submitting homework without registering. It is not checked against any registered list. Registration is just to gauge interest before the start date.\",\n",
       "  'id': '0bbf41ec'},\n",
       " {'question': 'Course - how many Zoomcamps in a year?',\n",
       "  'course': 'data-engineering-zoomcamp',\n",
       "  'section': 'General course-related questions',\n",
       "  'text': \"There are 3 Zoom Camps in a year, as of 2024. However, they are for separate courses:\\nData-Engineering (Jan - Apr)\\nMLOps (May - Aug)\\nMachine Learning (Sep - Jan)\\nThere's only one Data-Engineering Zoomcamp “live” cohort per year, for the certification. Same as for the other Zoomcamps.\\nThey follow pretty much the same schedule for each cohort per zoomcamp. For Data-Engineering it is (generally) from Jan-Apr of the year. If you’re not interested in the Certificate, you can take any zoom camps at any time, at your own pace, out of sync with any “live” cohort.\",\n",
       "  'id': '2ed9b986'}]"
      ]
     },
     "execution_count": 31,
     "metadata": {},
     "output_type": "execute_result"
    }
   ],
   "source": [
    "text_vector_knn(ground_truth[0])"
   ]
  },
  {
   "cell_type": "code",
   "execution_count": 32,
   "metadata": {},
   "outputs": [
    {
     "name": "stderr",
     "output_type": "stream",
     "text": [
      "100%|██████████| 4627/4627 [01:27<00:00, 52.65it/s]\n"
     ]
    },
    {
     "data": {
      "text/plain": [
       "{'hit_rate': 0.8286146531229739, 'mrr': 0.7062315395144454}"
      ]
     },
     "execution_count": 32,
     "metadata": {},
     "output_type": "execute_result"
    }
   ],
   "source": [
    "evaluate(ground_truth, text_vector_knn)"
   ]
  },
  {
   "cell_type": "code",
   "execution_count": 33,
   "metadata": {},
   "outputs": [],
   "source": [
    "def question_text_vector_knn(q):\n",
    "    question = q['question']\n",
    "    course = q['course']\n",
    "\n",
    "    v_q = model.encode(question)\n",
    "\n",
    "    return elastic_search_knn('question_text_vector', v_q, course)"
   ]
  },
  {
   "cell_type": "code",
   "execution_count": 34,
   "metadata": {},
   "outputs": [
    {
     "name": "stderr",
     "output_type": "stream",
     "text": [
      "100%|██████████| 4627/4627 [01:18<00:00, 58.68it/s]\n"
     ]
    },
    {
     "data": {
      "text/plain": [
       "{'hit_rate': 0.9172249837907932, 'mrr': 0.824306606152295}"
      ]
     },
     "execution_count": 34,
     "metadata": {},
     "output_type": "execute_result"
    }
   ],
   "source": [
    "evaluate(ground_truth, question_text_vector_knn)"
   ]
  },
  {
   "cell_type": "code",
   "execution_count": 35,
   "metadata": {},
   "outputs": [],
   "source": [
    "def elastic_search_knn_combined(vector, course):\n",
    "    search_query = {\n",
    "        \"size\": 5,\n",
    "        \"query\": {\n",
    "            \"bool\": {\n",
    "                \"must\": [\n",
    "                    {\n",
    "                        \"script_score\": {\n",
    "                            \"query\": {\n",
    "                                \"term\": {\n",
    "                                    \"course\": course\n",
    "                                }\n",
    "                            },\n",
    "                            \"script\": {\n",
    "                                \"source\": \"\"\"\n",
    "                                    cosineSimilarity(params.query_vector, 'question_vector') + \n",
    "                                    cosineSimilarity(params.query_vector, 'text_vector') + \n",
    "                                    cosineSimilarity(params.query_vector, 'question_text_vector') + \n",
    "                                    1\n",
    "                                \"\"\",\n",
    "                                \"params\": {\n",
    "                                    \"query_vector\": vector\n",
    "                                }\n",
    "                            }\n",
    "                        }\n",
    "                    }\n",
    "                ],\n",
    "                \"filter\": {\n",
    "                    \"term\": {\n",
    "                        \"course\": course\n",
    "                    }\n",
    "                }\n",
    "            }\n",
    "        },\n",
    "        \"_source\": [\"text\", \"section\", \"question\", \"course\", \"id\"]\n",
    "    }\n",
    "\n",
    "    es_results = es_client.search(\n",
    "        index=index_name,\n",
    "        body=search_query\n",
    "    )\n",
    "    \n",
    "    result_docs = []\n",
    "    \n",
    "    for hit in es_results['hits']['hits']:\n",
    "        result_docs.append(hit['_source'])\n",
    "\n",
    "    return result_docs"
   ]
  },
  {
   "cell_type": "code",
   "execution_count": 36,
   "metadata": {},
   "outputs": [
    {
     "name": "stderr",
     "output_type": "stream",
     "text": [
      "100%|██████████| 4627/4627 [01:22<00:00, 56.23it/s]\n"
     ]
    },
    {
     "data": {
      "text/plain": [
       "{'hit_rate': 0.9023125135076724, 'mrr': 0.804480945176861}"
      ]
     },
     "execution_count": 36,
     "metadata": {},
     "output_type": "execute_result"
    }
   ],
   "source": [
    "def vector_combined_knn(q):\n",
    "    question = q['question']\n",
    "    course = q['course']\n",
    "\n",
    "    v_q = model.encode(question)\n",
    "\n",
    "    return elastic_search_knn_combined(v_q, course)\n",
    "\n",
    "evaluate(ground_truth, vector_combined_knn)"
   ]
  },
  {
   "cell_type": "code",
   "execution_count": null,
   "metadata": {},
   "outputs": [],
   "source": []
  }
 ],
 "metadata": {
  "kernelspec": {
   "display_name": "llm-zoomcamp-env",
   "language": "python",
   "name": "python3"
  },
  "language_info": {
   "codemirror_mode": {
    "name": "ipython",
    "version": 3
   },
   "file_extension": ".py",
   "mimetype": "text/x-python",
   "name": "python",
   "nbconvert_exporter": "python",
   "pygments_lexer": "ipython3",
   "version": "3.10.13"
  }
 },
 "nbformat": 4,
 "nbformat_minor": 2
}
